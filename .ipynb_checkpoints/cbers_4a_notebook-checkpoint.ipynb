{
 "cells": [
  {
   "cell_type": "markdown",
   "metadata": {},
   "source": [
    "# Importing dataset"
   ]
  },
  {
   "cell_type": "code",
   "execution_count": 1,
   "metadata": {},
   "outputs": [],
   "source": [
    "import matplotlib.pyplot as plt\n",
    "from tensorflow import keras\n",
    "import tensorflow as tf\n",
    "import numpy as np\n",
    "import os\n",
    "import io\n",
    "import pandas as pd\n",
    "import cv2\n",
    "import sklearn\n",
    "import random\n",
    "from osgeo import gdal\n",
    "import shutil"
   ]
  },
  {
   "cell_type": "markdown",
   "metadata": {},
   "source": [
    "# PATHS"
   ]
  },
  {
   "cell_type": "code",
   "execution_count": 2,
   "metadata": {},
   "outputs": [],
   "source": [
    "DATA_PATH = \"D:/cbers_data/DataSetModelo/\"\n",
    "\n",
    "SCENES_PATH = \"D:/cbers_data/DataSetModelo/raw_data/\""
   ]
  },
  {
   "cell_type": "code",
   "execution_count": 3,
   "metadata": {},
   "outputs": [],
   "source": [
    "DIMENSION = 256"
   ]
  },
  {
   "cell_type": "markdown",
   "metadata": {},
   "source": [
    "# Utils"
   ]
  },
  {
   "cell_type": "code",
   "execution_count": 4,
   "metadata": {},
   "outputs": [],
   "source": [
    "def normalize_min_max(image):\n",
    "    \n",
    "    return((image-np.nanmin(image))/(np.nanmax(image)- np.nanmin(image)))\n",
    "\n",
    "def resize_img(image,x,y,z):\n",
    "    image = cv2.resize(image,(x,y))\n",
    "    image = image.reshape((x,y,z))\n",
    "    return image\n",
    "\n",
    "#def clip_image(r,g,b,n):\n",
    "#    return np.dstack((r,g,b,n))\n",
    "\n",
    "def print_cbers_image(image):\n",
    "    plt.figure()\n",
    "    plt.imshow(image)\n",
    "    plt.show()"
   ]
  },
  {
   "cell_type": "markdown",
   "metadata": {},
   "source": [
    "# Pre processing the raw imagery"
   ]
  },
  {
   "cell_type": "code",
   "execution_count": null,
   "metadata": {},
   "outputs": [],
   "source": [
    "# Creating folders\n",
    "\n",
    "try:\n",
    "    folders = ['train_frames', 'train_masks', 'val_frames', 'val_masks', 'test_frames', 'test_masks']\n",
    "    for folder in folders:\n",
    "        os.makedirs(DATA_PATH + folder)\n",
    "except:\n",
    "    pass\n"
   ]
  },
  {
   "cell_type": "code",
   "execution_count": null,
   "metadata": {},
   "outputs": [],
   "source": [
    "# Creating folders\n",
    "try:\n",
    "    folders = ['train_frames', 'train_masks', 'val_frames', 'val_masks', \n",
    "               'test_frames', 'test_masks']\n",
    "    for folder in folders:\n",
    "        os.makedirs(DATA_PATH + folder)\n",
    "except:\n",
    "    pass"
   ]
  },
  {
   "cell_type": "code",
   "execution_count": null,
   "metadata": {},
   "outputs": [],
   "source": [
    "FILES = ['CBERS_4A_WFI_20201020_205_116_L4']"
   ]
  },
  {
   "cell_type": "code",
   "execution_count": null,
   "metadata": {},
   "outputs": [],
   "source": []
  },
  {
   "cell_type": "code",
   "execution_count": null,
   "metadata": {},
   "outputs": [],
   "source": [
    "#Split dataset files\n",
    "all_frames = FILES\n",
    "random.seed(4)\n",
    "random.shuffle(all_frames)\n",
    "\n",
    "train_size = int(0.7 * len(all_frames))\n",
    "val_size = int(0.15 * len(all_frames))\n",
    "test_size = int(0.15 * len(all_frames))\n",
    "\n",
    "train_scene = all_frames[:train_size]\n",
    "val_scene = all_frames[train_size:train_size+val_size]\n",
    "test_scene = val_subscenes = all_frames[train_size+val_size:]"
   ]
  },
  {
   "cell_type": "code",
   "execution_count": null,
   "metadata": {},
   "outputs": [],
   "source": [
    "# Generate corresponding mask lists for masks\n",
    "train_masks = [f for f in all_frames if f in train_scene]\n",
    "val_masks = [f for f in all_frames if f in val_scene]\n",
    "test_masks = [f for f in all_frames if f in test_scene]\n"
   ]
  },
  {
   "cell_type": "code",
   "execution_count": null,
   "metadata": {},
   "outputs": [],
   "source": [
    "def clip_image(input_path, output_path,image_name):\n",
    "    \n",
    "    red = gdal.Open(input_path + image_name + '_BAND13_GRID_SURFACE.tif')\n",
    "    green = gdal.Open(input_path + image_name + '_BAND14_GRID_SURFACE.tif')\n",
    "    blue = gdal.Open(input_path + image_name + '_BAND15_GRID_SURFACE.tif')\n",
    "    #nir = gdal.Open(input_path + image_name + '_BAND16_GRID_SURFACE.tif')\n",
    "    #Create the .vrt from RGBN\n",
    "    array = [red, green, blue]#adicionar o nir\n",
    "    opt = gdal.BuildVRTOptions(srcNodata=-9999, VRTNodata=-9999,separate=True,resampleAlg='nearest')\n",
    "    vrt_clip = gdal.BuildVRT(input_path + image_name +'.vrt', array, options=opt)\n",
    "    #Translate the .vrt to .tif\n",
    "    trans_opt = gdal.TranslateOptions(format=\"tif\", outputType=gdal.gdalconst.GDT_Unknown, \n",
    "                                  bandList=[1,2,3],width=0, height=0, widthPct=0.0, \n",
    "                                  heightPct=0.0, xRes=0.0, yRes=0.0,noData=-9999)\n",
    "    \n",
    "    return gdal.Translate(output_path + image_name +'_rgbn.tif', vrt_clip)\n",
    "    "
   ]
  },
  {
   "cell_type": "code",
   "execution_count": null,
   "metadata": {
    "scrolled": false
   },
   "outputs": [],
   "source": [
    "def crop_image_rgbn(output_dir, rgbn, image_name, dimension):\n",
    "    gt = rgbn.GetGeoTransform()\n",
    "    x_min = gt[0]\n",
    "    y_max = gt[3]\n",
    "\n",
    "    res = gt[1]\n",
    "\n",
    "    num_img_x = rgbn.RasterXSize/dimension\n",
    "    num_img_y = rgbn.RasterYSize/dimension\n",
    "\n",
    "    x_len = res * rgbn.RasterXSize\n",
    "    y_len = res * rgbn.RasterYSize\n",
    "\n",
    "    x_size = x_len/num_img_x\n",
    "    y_size = y_len/num_img_y\n",
    "\n",
    "\n",
    "    x_steps = [x_min + x_size * i for i in range(int(num_img_x) + 1)]\n",
    "    y_steps = [y_max - y_size * i for i in range(int(num_img_y) + 1)]\n",
    "    print(\"qnt img: \" + str(num_img_y))\n",
    "\n",
    "    for i in range(int(min(num_img_x,num_img_y))):\n",
    "        for j in range(int(min(num_img_x,num_img_y))):\n",
    "            x_min = x_steps[i]\n",
    "            x_max = x_steps[i+1]\n",
    "            y_max = y_steps[j]\n",
    "            y_min = y_steps[j+1]\n",
    "\n",
    "            gdal.Warp(output_dir + image_name + str(i)+ \"_\" +str(j)+'.tif', rgbn, \n",
    "                      outputBounds = (x_min,y_min,x_max, y_max), dstNodata = -9999)"
   ]
  },
  {
   "cell_type": "code",
   "execution_count": null,
   "metadata": {
    "scrolled": true
   },
   "outputs": [],
   "source": [
    "from matplotlib import pyplot as plt\n",
    "plt.imshow(normalize_min_max(first_im.transpose((1,2,0))))\n",
    "plt.show()"
   ]
  },
  {
   "cell_type": "code",
   "execution_count": null,
   "metadata": {},
   "outputs": [],
   "source": [
    "#Add train, val frames and masks to relevant folders\n",
    "from numpy import save\n",
    "\n",
    "def add_frames(dir_name, image_name):\n",
    "    try:\n",
    "        dir_name = \"D:/cbers_data/DataSetModelo/\" + dir_name + '/'\n",
    "        #clip Image\n",
    "        raw_path = \"D:/cbers_data/DataSetModelo/raw_data/\" \n",
    "        clip_path = \"D:/cbers_data/DataSetModelo/clip/\" \n",
    "        clip_img = clip_image(raw_path, clip_path,image_name)\n",
    "        #crop image\n",
    "        crop_image_rgbn(dir_name, clip_img, image_name, DIMENSION)\n",
    "        \n",
    "    except Exception as e: \n",
    "        print(e)\n",
    "        pass\n",
    "    \n",
    "def add_masks(dir_name, image_name):\n",
    "    try:\n",
    "        dir_name = \"D:/cbers_data/DataSetModelo/\" + dir_name + '/'\n",
    "        #crop image\n",
    "        mask = gdal.Open(\"D:/cbers_data/DataSetModelo/raw_data/\" + image_name + '_CMASK_GRID_SURFACE.tif')\n",
    "        crop_image_rgbn(dir_name, mask, image_name, DIMENSION)\n",
    " \n",
    "    except Exception as e:\n",
    "        print(e)\n",
    "        pass"
   ]
  },
  {
   "cell_type": "code",
   "execution_count": null,
   "metadata": {},
   "outputs": [],
   "source": [
    "frame_folders = [(train_scene, 'train_frames'), (val_scene, 'val_frames'), (test_scene, 'test_frames')]\n",
    "\n",
    "mask_folders = [(train_masks, 'train_masks'), (val_masks, 'val_masks'), (test_masks, 'test_masks')]"
   ]
  },
  {
   "cell_type": "code",
   "execution_count": null,
   "metadata": {},
   "outputs": [],
   "source": [
    "#Celula que carrega as imagens nos diretórios corretos\n",
    "\n",
    "from PIL import Image\n",
    "\n",
    "# Add frames\n",
    "for folder in frame_folders:\n",
    "    print(folder)\n",
    "    array = folder[0]\n",
    "    name = [folder[1]] * len(array)\n",
    "    list(map(add_frames, name, array))\n",
    "\n",
    "# Add masks\n",
    "for folder in mask_folders:\n",
    "    print(folder)\n",
    "    array = folder[0]\n",
    "    name = [folder[1]] * len(array)\n",
    "    list(map(add_masks, name, array))\n"
   ]
  },
  {
   "cell_type": "markdown",
   "metadata": {},
   "source": [
    "# Creating the generator"
   ]
  },
  {
   "cell_type": "code",
   "execution_count": 5,
   "metadata": {},
   "outputs": [],
   "source": [
    "from keras.preprocessing.image import ImageDataGenerator\n",
    "\n",
    "train_datagen = ImageDataGenerator(\n",
    "        shear_range=0.2,\n",
    "        zoom_range=0.2,\n",
    "        horizontal_flip=True,\n",
    "        data_format=None,\n",
    "        )"
   ]
  },
  {
   "cell_type": "code",
   "execution_count": 6,
   "metadata": {},
   "outputs": [
    {
     "name": "stdout",
     "output_type": "stream",
     "text": [
      "Found 0 images belonging to 0 classes.\n"
     ]
    }
   ],
   "source": [
    "BATCH_SIZE = 4\n",
    "\n",
    "train_image_generator = train_datagen.flow_from_directory(\n",
    "'D:/Geoprocessamento/DataSetModelo/l8_biome/train_frames',\n",
    "batch_size = BATCH_SIZE)\n"
   ]
  },
  {
   "cell_type": "code",
   "execution_count": 7,
   "metadata": {},
   "outputs": [],
   "source": [
    "import cv2\n",
    "import random\n",
    "from sklearn.model_selection import ParameterGrid\n"
   ]
  },
  {
   "cell_type": "code",
   "execution_count": 8,
   "metadata": {},
   "outputs": [],
   "source": [
    "from sklearn import preprocessing\n",
    "def data_gen(img_folder, mask_folder, batch_size):\n",
    "    c = 0\n",
    "    n = os.listdir(img_folder) #List of training images\n",
    "    random.shuffle(n)\n",
    "    x,y,z = 256,256,1\n",
    "    while(True):\n",
    "        img = np.zeros((batch_size, 256, 256, 3)).astype('float')\n",
    "        mask = np.zeros((batch_size, 256, 256, 1)).astype('float')\n",
    "\n",
    "        for i in range(c, c + batch_size): #initially from 0 to 16, c = 0. \n",
    "            #train_img = np.load(img_folder+'/'+n[i], allow_pickle=True)\n",
    "            train_img = gdal.Open(img_folder+'/'+n[i]).ReadAsArray()\n",
    "\n",
    "            #train_img =  cv2.resize(train_img, (256, 256))# Read an image from folder and resize\n",
    "            #train_img = train_img.reshape(256, 256, 4)\n",
    "            #Normalização\n",
    "            train_img = cv2.normalize(train_img, None, alpha=0, beta=1, norm_type=cv2.NORM_MINMAX, dtype=cv2.CV_32F)\n",
    "\n",
    "            #train_img = normalize_min_max(train_img)\n",
    "            train_img = tf.convert_to_tensor(train_img.transpose((1,2,0)))\n",
    "            img[i-c] = train_img #add to array - img[0], img[1], and so on.\n",
    "\n",
    "            #n[i] = n[i][:-3] + \"tif\"\n",
    "            \n",
    "            train_mask = gdal.Open(mask_folder+'/'+n[i]).ReadAsArray()\n",
    "            #train_mask = (np.load(mask_folder+'/'+n[i]))\n",
    "            train_mask = train_mask/1\n",
    "            #train_mask = cv2.resize(train_mask, (256, 256))\n",
    "            train_mask = resize_img(train_mask,x,y,z)\n",
    "            #train_mask = normalize_min_max(train_mask)\n",
    "            train_mask = cv2.normalize(train_mask, None, alpha=0, beta=1, norm_type=cv2.NORM_MINMAX, dtype=cv2.CV_32F)\n",
    "            #train_mask = np.expand_dims(train_mask,axis=2)\n",
    "            train_mask = np.expand_dims(train_mask, axis=2)\n",
    "            train_mask = tf.convert_to_tensor(train_mask)\n",
    "            \n",
    "            mask[i-c] = train_mask\n",
    "            \n",
    "\n",
    "        c += batch_size\n",
    "        \n",
    "        if(c + batch_size >= len(os.listdir(img_folder))):\n",
    "            c=0\n",
    "            random.shuffle(n)\n",
    "                      # print \"randomizing again\"\n",
    "        \n",
    "        yield img, mask\n",
    "        \n",
    "train_frame_path = 'D:/cbers_data/DataSetModelo/train_frames'\n",
    "train_mask_path = 'D:/cbers_data/DataSetModelo/train_masks'\n",
    "\n",
    "val_frame_path = 'D:/cbers_data/DataSetModelo/val_frames'\n",
    "val_mask_path = 'D:/cbers_data/DataSetModelo/val_masks'\n",
    "\n",
    "test_frame_path = 'D:/cbers_data/DataSetModelo/test_frames'\n",
    "test_mask_path = 'D:/cbers_data/DataSetModelo/test_masks'\n",
    "\n",
    "train_gen = data_gen(train_frame_path,train_mask_path, batch_size = BATCH_SIZE)\n",
    "val_gen = data_gen(val_frame_path,val_mask_path, batch_size = BATCH_SIZE)\n",
    "test_gen = data_gen(test_frame_path,test_mask_path, batch_size = BATCH_SIZE)"
   ]
  },
  {
   "cell_type": "markdown",
   "metadata": {},
   "source": [
    "# F1 SCORE"
   ]
  },
  {
   "cell_type": "code",
   "execution_count": 9,
   "metadata": {},
   "outputs": [],
   "source": [
    "from keras import backend as K\n",
    "\n",
    "def f1(y_true, y_pred):\n",
    "    def recall(y_true, y_pred):\n",
    "        \"\"\"Recall metric.\n",
    "\n",
    "        Only computes a batch-wise average of recall.\n",
    "\n",
    "        Computes the recall, a metric for multi-label classification of\n",
    "        how many relevant items are selected.\n",
    "        \"\"\"\n",
    "        true_positives = K.sum(K.round(K.clip(y_true * y_pred, 0, 1)))\n",
    "        possible_positives = K.sum(K.round(K.clip(y_true, 0, 1)))\n",
    "        recall = true_positives / (possible_positives + K.epsilon())\n",
    "        return recall\n",
    "\n",
    "    def precision(y_true, y_pred):\n",
    "        \"\"\"Precision metric.\n",
    "\n",
    "        Only computes a batch-wise average of precision.\n",
    "\n",
    "        Computes the precision, a metric for multi-label classification of\n",
    "        how many selected items are relevant.\n",
    "        \"\"\"\n",
    "        true_positives = K.sum(K.round(K.clip(y_true * y_pred, 0, 1)))\n",
    "        predicted_positives = K.sum(K.round(K.clip(y_pred, 0, 1)))\n",
    "        precision = true_positives / (predicted_positives + K.epsilon())\n",
    "        return precision\n",
    "    precision = precision(y_true, y_pred)\n",
    "    recall = recall(y_true, y_pred)\n",
    "    return 2*((precision*recall)/(precision+recall+K.epsilon()))"
   ]
  },
  {
   "cell_type": "markdown",
   "metadata": {},
   "source": [
    "# Creating the model"
   ]
  },
  {
   "cell_type": "code",
   "execution_count": 10,
   "metadata": {},
   "outputs": [],
   "source": [
    "from keras.callbacks import ModelCheckpoint\n",
    "from keras.callbacks import CSVLogger\n",
    "from keras.callbacks import EarlyStopping\n",
    "from keras.optimizers import Adam"
   ]
  },
  {
   "cell_type": "code",
   "execution_count": 11,
   "metadata": {
    "scrolled": false
   },
   "outputs": [],
   "source": [
    "NO_OF_TRAINING_IMAGES = len(os.listdir(train_frame_path))\n",
    "NO_OF_VAL_IMAGES = len(os.listdir(val_frame_path))\n",
    "weights_path = 'D:/cbers_data/DataSetModelo/'\n",
    "\n",
    "checkpoint = ModelCheckpoint(weights_path, monitor='f1', \n",
    "                             verbose=1, save_best_only=True, mode='max')\n",
    "\n",
    "csv_logger = CSVLogger('D:/cbers_data/DataSetModelo/log.out', append=True, separator=';')\n",
    "\n",
    "earlystopping = EarlyStopping(monitor = 'f1', verbose = 1,\n",
    "                              min_delta = 0.01, patience = 20, mode = 'max')\n",
    "\n",
    "callbacks_list = [checkpoint, csv_logger, earlystopping]\n",
    "\n",
    "\n"
   ]
  },
  {
   "cell_type": "code",
   "execution_count": 12,
   "metadata": {},
   "outputs": [],
   "source": [
    "import os\n",
    "import sys\n",
    "import random\n",
    "import warnings\n",
    "\n",
    "import numpy as np\n",
    "import pandas as pd\n",
    "\n",
    "from itertools import chain\n",
    "from keras.models import Model, load_model\n",
    "from keras.layers import Input\n",
    "from keras.layers.core import Dropout, Lambda\n",
    "from keras.layers.convolutional import Conv2D, Conv2DTranspose\n",
    "from keras.layers.pooling import MaxPooling2D\n",
    "from keras.layers.merge import concatenate\n",
    "from keras.callbacks import EarlyStopping, ModelCheckpoint\n",
    "from keras import backend as K"
   ]
  },
  {
   "cell_type": "code",
   "execution_count": 13,
   "metadata": {
    "scrolled": true
   },
   "outputs": [
    {
     "name": "stdout",
     "output_type": "stream",
     "text": [
      "Model: \"functional_1\"\n",
      "__________________________________________________________________________________________________\n",
      "Layer (type)                    Output Shape         Param #     Connected to                     \n",
      "==================================================================================================\n",
      "input_1 (InputLayer)            [(None, 256, 256, 3) 0                                            \n",
      "__________________________________________________________________________________________________\n",
      "conv2d (Conv2D)                 (None, 256, 256, 32) 896         input_1[0][0]                    \n",
      "__________________________________________________________________________________________________\n",
      "dropout (Dropout)               (None, 256, 256, 32) 0           conv2d[0][0]                     \n",
      "__________________________________________________________________________________________________\n",
      "conv2d_1 (Conv2D)               (None, 256, 256, 32) 9248        dropout[0][0]                    \n",
      "__________________________________________________________________________________________________\n",
      "max_pooling2d (MaxPooling2D)    (None, 128, 128, 32) 0           conv2d_1[0][0]                   \n",
      "__________________________________________________________________________________________________\n",
      "conv2d_2 (Conv2D)               (None, 128, 128, 32) 9248        max_pooling2d[0][0]              \n",
      "__________________________________________________________________________________________________\n",
      "dropout_1 (Dropout)             (None, 128, 128, 32) 0           conv2d_2[0][0]                   \n",
      "__________________________________________________________________________________________________\n",
      "conv2d_3 (Conv2D)               (None, 128, 128, 32) 9248        dropout_1[0][0]                  \n",
      "__________________________________________________________________________________________________\n",
      "max_pooling2d_1 (MaxPooling2D)  (None, 64, 64, 32)   0           conv2d_3[0][0]                   \n",
      "__________________________________________________________________________________________________\n",
      "conv2d_4 (Conv2D)               (None, 64, 64, 64)   18496       max_pooling2d_1[0][0]            \n",
      "__________________________________________________________________________________________________\n",
      "dropout_2 (Dropout)             (None, 64, 64, 64)   0           conv2d_4[0][0]                   \n",
      "__________________________________________________________________________________________________\n",
      "conv2d_5 (Conv2D)               (None, 64, 64, 64)   36928       dropout_2[0][0]                  \n",
      "__________________________________________________________________________________________________\n",
      "max_pooling2d_2 (MaxPooling2D)  (None, 32, 32, 64)   0           conv2d_5[0][0]                   \n",
      "__________________________________________________________________________________________________\n",
      "conv2d_6 (Conv2D)               (None, 32, 32, 256)  147712      max_pooling2d_2[0][0]            \n",
      "__________________________________________________________________________________________________\n",
      "dropout_3 (Dropout)             (None, 32, 32, 256)  0           conv2d_6[0][0]                   \n",
      "__________________________________________________________________________________________________\n",
      "conv2d_7 (Conv2D)               (None, 32, 32, 256)  590080      dropout_3[0][0]                  \n",
      "__________________________________________________________________________________________________\n",
      "max_pooling2d_3 (MaxPooling2D)  (None, 16, 16, 256)  0           conv2d_7[0][0]                   \n",
      "__________________________________________________________________________________________________\n",
      "conv2d_8 (Conv2D)               (None, 16, 16, 128)  295040      max_pooling2d_3[0][0]            \n",
      "__________________________________________________________________________________________________\n",
      "dropout_4 (Dropout)             (None, 16, 16, 128)  0           conv2d_8[0][0]                   \n",
      "__________________________________________________________________________________________________\n",
      "conv2d_9 (Conv2D)               (None, 16, 16, 128)  147584      dropout_4[0][0]                  \n",
      "__________________________________________________________________________________________________\n",
      "conv2d_transpose (Conv2DTranspo (None, 32, 32, 256)  131328      conv2d_9[0][0]                   \n",
      "__________________________________________________________________________________________________\n",
      "concatenate (Concatenate)       (None, 32, 32, 512)  0           conv2d_transpose[0][0]           \n",
      "                                                                 conv2d_7[0][0]                   \n",
      "__________________________________________________________________________________________________\n",
      "conv2d_10 (Conv2D)              (None, 32, 32, 256)  1179904     concatenate[0][0]                \n",
      "__________________________________________________________________________________________________\n",
      "dropout_5 (Dropout)             (None, 32, 32, 256)  0           conv2d_10[0][0]                  \n",
      "__________________________________________________________________________________________________\n",
      "conv2d_11 (Conv2D)              (None, 32, 32, 256)  590080      dropout_5[0][0]                  \n",
      "__________________________________________________________________________________________________\n",
      "conv2d_transpose_1 (Conv2DTrans (None, 64, 64, 64)   65600       conv2d_11[0][0]                  \n",
      "__________________________________________________________________________________________________\n",
      "concatenate_1 (Concatenate)     (None, 64, 64, 128)  0           conv2d_transpose_1[0][0]         \n",
      "                                                                 conv2d_5[0][0]                   \n",
      "__________________________________________________________________________________________________\n",
      "conv2d_12 (Conv2D)              (None, 64, 64, 64)   73792       concatenate_1[0][0]              \n",
      "__________________________________________________________________________________________________\n",
      "dropout_6 (Dropout)             (None, 64, 64, 64)   0           conv2d_12[0][0]                  \n",
      "__________________________________________________________________________________________________\n",
      "conv2d_13 (Conv2D)              (None, 64, 64, 64)   36928       dropout_6[0][0]                  \n",
      "__________________________________________________________________________________________________\n",
      "conv2d_transpose_2 (Conv2DTrans (None, 128, 128, 32) 8224        conv2d_13[0][0]                  \n",
      "__________________________________________________________________________________________________\n",
      "concatenate_2 (Concatenate)     (None, 128, 128, 64) 0           conv2d_transpose_2[0][0]         \n",
      "                                                                 conv2d_3[0][0]                   \n",
      "__________________________________________________________________________________________________\n",
      "conv2d_14 (Conv2D)              (None, 128, 128, 32) 18464       concatenate_2[0][0]              \n",
      "__________________________________________________________________________________________________\n",
      "dropout_7 (Dropout)             (None, 128, 128, 32) 0           conv2d_14[0][0]                  \n",
      "__________________________________________________________________________________________________\n",
      "conv2d_15 (Conv2D)              (None, 128, 128, 32) 9248        dropout_7[0][0]                  \n",
      "__________________________________________________________________________________________________\n",
      "conv2d_transpose_3 (Conv2DTrans (None, 256, 256, 32) 4128        conv2d_15[0][0]                  \n",
      "__________________________________________________________________________________________________\n",
      "concatenate_3 (Concatenate)     (None, 256, 256, 64) 0           conv2d_transpose_3[0][0]         \n",
      "                                                                 conv2d_1[0][0]                   \n",
      "__________________________________________________________________________________________________\n",
      "conv2d_16 (Conv2D)              (None, 256, 256, 32) 18464       concatenate_3[0][0]              \n",
      "__________________________________________________________________________________________________\n",
      "dropout_8 (Dropout)             (None, 256, 256, 32) 0           conv2d_16[0][0]                  \n",
      "__________________________________________________________________________________________________\n",
      "conv2d_17 (Conv2D)              (None, 256, 256, 32) 9248        dropout_8[0][0]                  \n",
      "__________________________________________________________________________________________________\n",
      "conv2d_18 (Conv2D)              (None, 256, 256, 1)  33          conv2d_17[0][0]                  \n",
      "==================================================================================================\n",
      "Total params: 3,409,921\n",
      "Trainable params: 3,409,921\n",
      "Non-trainable params: 0\n",
      "__________________________________________________________________________________________________\n"
     ]
    }
   ],
   "source": [
    "# Build U-Net model\n",
    "\n",
    "inputs = Input((256, 256, 3))\n",
    "s = (inputs)\n",
    "\n",
    "c1 = Conv2D(32, (3, 3), activation='elu', kernel_initializer='he_normal', padding='same') (s)\n",
    "c1 = Dropout(0.1) (c1)\n",
    "c1 = Conv2D(32, (3, 3), activation='elu', kernel_initializer='he_normal', padding='same') (c1)\n",
    "p1 = MaxPooling2D((2, 2)) (c1)\n",
    "\n",
    "c2 = Conv2D(32, (3, 3), activation='elu', kernel_initializer='he_normal', padding='same') (p1)\n",
    "c2 = Dropout(0.1) (c2)\n",
    "c2 = Conv2D(32, (3, 3), activation='elu', kernel_initializer='he_normal', padding='same') (c2)\n",
    "p2 = MaxPooling2D((2, 2)) (c2)\n",
    "\n",
    "c3 = Conv2D(64, (3, 3), activation='elu', kernel_initializer='he_normal', padding='same') (p2)\n",
    "c3 = Dropout(0.2) (c3)\n",
    "c3 = Conv2D(64, (3, 3), activation='elu', kernel_initializer='he_normal', padding='same') (c3)\n",
    "p3 = MaxPooling2D((2, 2)) (c3)\n",
    "\n",
    "c4 = Conv2D(256, (3, 3), activation='elu', kernel_initializer='he_normal', padding='same') (p3)\n",
    "c4 = Dropout(0.2) (c4)\n",
    "c4 = Conv2D(256, (3, 3), activation='elu', kernel_initializer='he_normal', padding='same') (c4)\n",
    "p4 = MaxPooling2D(pool_size=(2, 2)) (c4)\n",
    "\n",
    "c5 = Conv2D(128, (3, 3), activation='elu', kernel_initializer='he_normal', padding='same') (p4)\n",
    "c5 = Dropout(0.3) (c5)\n",
    "c5 = Conv2D(128, (3, 3), activation='elu', kernel_initializer='he_normal', padding='same') (c5)\n",
    "\n",
    "u6 = Conv2DTranspose(256, (2, 2), strides=(2, 2), padding='same') (c5)\n",
    "u6 = concatenate([u6, c4])\n",
    "c6 = Conv2D(256, (3, 3), activation='elu', kernel_initializer='he_normal', padding='same') (u6)\n",
    "c6 = Dropout(0.2) (c6)\n",
    "c6 = Conv2D(256, (3, 3), activation='elu', kernel_initializer='he_normal', padding='same') (c6)\n",
    "\n",
    "u7 = Conv2DTranspose(64, (2, 2), strides=(2, 2), padding='same') (c6)\n",
    "u7 = concatenate([u7, c3])\n",
    "c7 = Conv2D(64, (3, 3), activation='elu', kernel_initializer='he_normal', padding='same') (u7)\n",
    "c7 = Dropout(0.2) (c7)\n",
    "c7 = Conv2D(64, (3, 3), activation='elu', kernel_initializer='he_normal', padding='same') (c7)\n",
    "\n",
    "u8 = Conv2DTranspose(32, (2, 2), strides=(2, 2), padding='same') (c7)\n",
    "u8 = concatenate([u8, c2])\n",
    "c8 = Conv2D(32, (3, 3), activation='elu', kernel_initializer='he_normal', padding='same') (u8)\n",
    "c8 = Dropout(0.1) (c8)\n",
    "c8 = Conv2D(32, (3, 3), activation='elu', kernel_initializer='he_normal', padding='same') (c8)\n",
    "\n",
    "u9 = Conv2DTranspose(32, (2, 2), strides=(2, 2), padding='same') (c8)\n",
    "u9 = concatenate([u9, c1], axis=3)\n",
    "c9 = Conv2D(32, (3, 3), activation='elu', kernel_initializer='he_normal', padding='same') (u9)\n",
    "c9 = Dropout(0.1) (c9)\n",
    "c9 = Conv2D(32, (3, 3), activation='elu', kernel_initializer='he_normal', padding='same') (c9)\n",
    "\n",
    "outputs = Conv2D(1, (1, 1), activation='sigmoid') (c9)\n",
    "\n",
    "model = Model(inputs=[inputs], outputs=[outputs])\n",
    "model.compile(optimizer='adam', loss='binary_crossentropy', metrics=[\"accuracy\",f1])\n",
    "model.summary()"
   ]
  },
  {
   "cell_type": "code",
   "execution_count": 14,
   "metadata": {},
   "outputs": [
    {
     "name": "stdout",
     "output_type": "stream",
     "text": [
      "Requirement already satisfied: visualkeras in c:\\users\\diego\\.conda\\envs\\ev_geo\\lib\\site-packages (0.0.2)\n",
      "Requirement already satisfied: aggdraw>=1.3.11 in c:\\users\\diego\\.conda\\envs\\ev_geo\\lib\\site-packages (from visualkeras) (1.3.12)\n",
      "Requirement already satisfied: numpy>=1.18.1 in c:\\users\\diego\\.conda\\envs\\ev_geo\\lib\\site-packages (from visualkeras) (1.18.5)\n",
      "Requirement already satisfied: pillow>=6.2.0 in c:\\users\\diego\\.conda\\envs\\ev_geo\\lib\\site-packages (from visualkeras) (8.3.1)\n"
     ]
    }
   ],
   "source": [
    "!pip install visualkeras"
   ]
  },
  {
   "cell_type": "code",
   "execution_count": 15,
   "metadata": {},
   "outputs": [
    {
     "data": {
      "image/png": "[encoded data removed]",
      "text/plain": [
       "<PIL.Image.Image image mode=RGBA size=750x207 at 0x275BC9F7BE0>"
      ]
     },
     "execution_count": 15,
     "metadata": {},
     "output_type": "execute_result"
    }
   ],
   "source": [
    "import visualkeras\n",
    "from tensorflow.python.keras.layers import Dense, Conv2D, Flatten, Dropout, MaxPooling2D, ZeroPadding2D\n",
    "from collections import defaultdict\n",
    "\n",
    "\n",
    "visualkeras.layered_view(model,legend=True, scale_xy=0.5, scale_z=0.5, max_z=7, to_file='network.png')"
   ]
  },
  {
   "cell_type": "markdown",
   "metadata": {},
   "source": [
    "### Training"
   ]
  },
  {
   "cell_type": "code",
   "execution_count": 16,
   "metadata": {
    "scrolled": true
   },
   "outputs": [
    {
     "name": "stdout",
     "output_type": "stream",
     "text": [
      "Epoch 1/64\n",
      "528/528 [==============================] - ETA: 0s - loss: 0.1304 - accuracy: 0.9450 - f1: 0.7914\n",
      "Epoch 00001: f1 improved from -inf to 0.79144, saving model to D:/cbers_data/DataSetModelo\\\n",
      "WARNING:tensorflow:From C:\\Users\\diego\\.conda\\envs\\ev_geo\\lib\\site-packages\\tensorflow\\python\\training\\tracking\\tracking.py:111: Model.state_updates (from tensorflow.python.keras.engine.training) is deprecated and will be removed in a future version.\n",
      "Instructions for updating:\n",
      "This property should not be used in TensorFlow 2.0, as updates are applied automatically.\n",
      "WARNING:tensorflow:From C:\\Users\\diego\\.conda\\envs\\ev_geo\\lib\\site-packages\\tensorflow\\python\\training\\tracking\\tracking.py:111: Layer.updates (from tensorflow.python.keras.engine.base_layer) is deprecated and will be removed in a future version.\n",
      "Instructions for updating:\n",
      "This property should not be used in TensorFlow 2.0, as updates are applied automatically.\n",
      "INFO:tensorflow:Assets written to: D:/cbers_data/DataSetModelo\\assets\n",
      "528/528 [==============================] - 1017s 2s/step - loss: 0.1304 - accuracy: 0.9450 - f1: 0.7914 - val_loss: 0.0643 - val_accuracy: 0.9653 - val_f1: 0.7842\n",
      "Epoch 2/64\n",
      "528/528 [==============================] - ETA: 0s - loss: 0.0920 - accuracy: 0.9561 - f1: 0.8372\n",
      "Epoch 00002: f1 improved from 0.79144 to 0.83720, saving model to D:/cbers_data/DataSetModelo\\\n",
      "INFO:tensorflow:Assets written to: D:/cbers_data/DataSetModelo\\assets\n",
      "528/528 [==============================] - 1006s 2s/step - loss: 0.0920 - accuracy: 0.9561 - f1: 0.8372 - val_loss: 0.1026 - val_accuracy: 0.9594 - val_f1: 0.7134\n",
      "Epoch 3/64\n",
      "528/528 [==============================] - ETA: 0s - loss: 0.1093 - accuracy: 0.9544 - f1: 0.8426\n",
      "Epoch 00003: f1 improved from 0.83720 to 0.84257, saving model to D:/cbers_data/DataSetModelo\\\n",
      "INFO:tensorflow:Assets written to: D:/cbers_data/DataSetModelo\\assets\n",
      "528/528 [==============================] - 1045s 2s/step - loss: 0.1093 - accuracy: 0.9544 - f1: 0.8426 - val_loss: 0.0488 - val_accuracy: 0.9697 - val_f1: 0.7946\n",
      "Epoch 4/64\n",
      "528/528 [==============================] - ETA: 0s - loss: 0.0779 - accuracy: 0.9603 - f1: 0.8677\n",
      "Epoch 00004: f1 improved from 0.84257 to 0.86774, saving model to D:/cbers_data/DataSetModelo\\\n",
      "INFO:tensorflow:Assets written to: D:/cbers_data/DataSetModelo\\assets\n",
      "528/528 [==============================] - 1206s 2s/step - loss: 0.0779 - accuracy: 0.9603 - f1: 0.8677 - val_loss: 0.0520 - val_accuracy: 0.9699 - val_f1: 0.7891\n",
      "Epoch 5/64\n",
      "528/528 [==============================] - ETA: 0s - loss: 0.0766 - accuracy: 0.9602 - f1: 0.8547\n",
      "Epoch 00005: f1 did not improve from 0.86774\n",
      "528/528 [==============================] - 1185s 2s/step - loss: 0.0766 - accuracy: 0.9602 - f1: 0.8547 - val_loss: 0.0431 - val_accuracy: 0.9697 - val_f1: 0.7835\n",
      "Epoch 6/64\n",
      "528/528 [==============================] - ETA: 0s - loss: 0.0720 - accuracy: 0.9621 - f1: 0.8710\n",
      "Epoch 00006: f1 improved from 0.86774 to 0.87097, saving model to D:/cbers_data/DataSetModelo\\\n",
      "INFO:tensorflow:Assets written to: D:/cbers_data/DataSetModelo\\assets\n",
      "528/528 [==============================] - 1186s 2s/step - loss: 0.0720 - accuracy: 0.9621 - f1: 0.8710 - val_loss: 0.0389 - val_accuracy: 0.9752 - val_f1: 0.8585\n",
      "Epoch 7/64\n",
      "528/528 [==============================] - ETA: 0s - loss: 0.0765 - accuracy: 0.9607 - f1: 0.8547\n",
      "Epoch 00007: f1 did not improve from 0.87097\n",
      "528/528 [==============================] - 970s 2s/step - loss: 0.0765 - accuracy: 0.9607 - f1: 0.8547 - val_loss: 0.0536 - val_accuracy: 0.9741 - val_f1: 0.7975\n",
      "Epoch 8/64\n",
      "528/528 [==============================] - ETA: 0s - loss: 0.0690 - accuracy: 0.9628 - f1: 0.8726\n",
      "Epoch 00008: f1 improved from 0.87097 to 0.87260, saving model to D:/cbers_data/DataSetModelo\\\n",
      "INFO:tensorflow:Assets written to: D:/cbers_data/DataSetModelo\\assets\n",
      "528/528 [==============================] - 1059s 2s/step - loss: 0.0690 - accuracy: 0.9628 - f1: 0.8726 - val_loss: 0.0437 - val_accuracy: 0.9768 - val_f1: 0.8293\n",
      "Epoch 9/64\n",
      "528/528 [==============================] - ETA: 0s - loss: 0.0694 - accuracy: 0.9628 - f1: 0.8700\n",
      "Epoch 00009: f1 did not improve from 0.87260\n",
      "528/528 [==============================] - 1100s 2s/step - loss: 0.0694 - accuracy: 0.9628 - f1: 0.8700 - val_loss: 0.0414 - val_accuracy: 0.9736 - val_f1: 0.8044\n",
      "Epoch 10/64\n",
      "528/528 [==============================] - ETA: 0s - loss: 0.0675 - accuracy: 0.9642 - f1: 0.8717\n",
      "Epoch 00010: f1 did not improve from 0.87260\n",
      "528/528 [==============================] - 1081s 2s/step - loss: 0.0675 - accuracy: 0.9642 - f1: 0.8717 - val_loss: 0.0470 - val_accuracy: 0.9763 - val_f1: 0.8157\n",
      "Epoch 11/64\n",
      "528/528 [==============================] - ETA: 0s - loss: 0.0703 - accuracy: 0.9626 - f1: 0.8723\n",
      "Epoch 00011: f1 did not improve from 0.87260\n",
      "528/528 [==============================] - 894s 2s/step - loss: 0.0703 - accuracy: 0.9626 - f1: 0.8723 - val_loss: 0.0454 - val_accuracy: 0.9674 - val_f1: 0.8082\n",
      "Epoch 12/64\n",
      "528/528 [==============================] - ETA: 0s - loss: 0.0658 - accuracy: 0.9647 - f1: 0.8670\n",
      "Epoch 00012: f1 did not improve from 0.87260\n",
      "528/528 [==============================] - 891s 2s/step - loss: 0.0658 - accuracy: 0.9647 - f1: 0.8670 - val_loss: 0.0379 - val_accuracy: 0.9732 - val_f1: 0.7687\n",
      "Epoch 13/64\n",
      "528/528 [==============================] - ETA: 0s - loss: 0.0663 - accuracy: 0.9633 - f1: 0.8704\n",
      "Epoch 00013: f1 did not improve from 0.87260\n",
      "528/528 [==============================] - 909s 2s/step - loss: 0.0663 - accuracy: 0.9633 - f1: 0.8704 - val_loss: 0.0426 - val_accuracy: 0.9717 - val_f1: 0.8509\n",
      "Epoch 14/64\n",
      "528/528 [==============================] - ETA: 0s - loss: 0.0653 - accuracy: 0.9656 - f1: 0.8886\n",
      "Epoch 00014: f1 improved from 0.87260 to 0.88862, saving model to D:/cbers_data/DataSetModelo\\\n",
      "INFO:tensorflow:Assets written to: D:/cbers_data/DataSetModelo\\assets\n",
      "528/528 [==============================] - 897s 2s/step - loss: 0.0653 - accuracy: 0.9656 - f1: 0.8886 - val_loss: 0.0434 - val_accuracy: 0.9724 - val_f1: 0.8832\n",
      "Epoch 15/64\n",
      "528/528 [==============================] - ETA: 0s - loss: 0.0686 - accuracy: 0.9630 - f1: 0.8735\n",
      "Epoch 00015: f1 did not improve from 0.88862\n",
      "528/528 [==============================] - 893s 2s/step - loss: 0.0686 - accuracy: 0.9630 - f1: 0.8735 - val_loss: 0.0414 - val_accuracy: 0.9745 - val_f1: 0.8076\n",
      "Epoch 16/64\n",
      "528/528 [==============================] - ETA: 0s - loss: 0.0645 - accuracy: 0.9650 - f1: 0.8789\n",
      "Epoch 00016: f1 did not improve from 0.88862\n",
      "528/528 [==============================] - 895s 2s/step - loss: 0.0645 - accuracy: 0.9650 - f1: 0.8789 - val_loss: 0.0675 - val_accuracy: 0.9604 - val_f1: 0.7501\n",
      "Epoch 17/64\n",
      "528/528 [==============================] - ETA: 0s - loss: 0.0648 - accuracy: 0.9660 - f1: 0.8886\n",
      "Epoch 00017: f1 improved from 0.88862 to 0.88864, saving model to D:/cbers_data/DataSetModelo\\\n",
      "INFO:tensorflow:Assets written to: D:/cbers_data/DataSetModelo\\assets\n",
      "528/528 [==============================] - 902s 2s/step - loss: 0.0648 - accuracy: 0.9660 - f1: 0.8886 - val_loss: 0.0400 - val_accuracy: 0.9768 - val_f1: 0.8349\n",
      "Epoch 18/64\n",
      "528/528 [==============================] - ETA: 0s - loss: 0.0686 - accuracy: 0.9623 - f1: 0.8662\n",
      "Epoch 00018: f1 did not improve from 0.88864\n",
      "528/528 [==============================] - 897s 2s/step - loss: 0.0686 - accuracy: 0.9623 - f1: 0.8662 - val_loss: 0.0426 - val_accuracy: 0.9796 - val_f1: 0.8370\n",
      "Epoch 19/64\n",
      "528/528 [==============================] - ETA: 0s - loss: 0.0646 - accuracy: 0.9655 - f1: 0.8734\n",
      "Epoch 00019: f1 did not improve from 0.88864\n",
      "528/528 [==============================] - 1002s 2s/step - loss: 0.0646 - accuracy: 0.9655 - f1: 0.8734 - val_loss: 0.0358 - val_accuracy: 0.9769 - val_f1: 0.8340\n",
      "Epoch 20/64\n",
      "528/528 [==============================] - ETA: 0s - loss: 0.0604 - accuracy: 0.9662 - f1: 0.8782\n",
      "Epoch 00020: f1 did not improve from 0.88864\n",
      "528/528 [==============================] - 1101s 2s/step - loss: 0.0604 - accuracy: 0.9662 - f1: 0.8782 - val_loss: 0.0528 - val_accuracy: 0.9661 - val_f1: 0.7822\n",
      "Epoch 21/64\n",
      "528/528 [==============================] - ETA: 0s - loss: 0.0826 - accuracy: 0.9625 - f1: 0.8655\n",
      "Epoch 00021: f1 did not improve from 0.88864\n",
      "528/528 [==============================] - 953s 2s/step - loss: 0.0826 - accuracy: 0.9625 - f1: 0.8655 - val_loss: 0.0413 - val_accuracy: 0.9804 - val_f1: 0.8452\n"
     ]
    },
    {
     "name": "stdout",
     "output_type": "stream",
     "text": [
      "Epoch 22/64\n",
      "528/528 [==============================] - ETA: 0s - loss: 0.0629 - accuracy: 0.9650 - f1: 0.8766\n",
      "Epoch 00022: f1 did not improve from 0.88864\n",
      "528/528 [==============================] - 902s 2s/step - loss: 0.0629 - accuracy: 0.9650 - f1: 0.8766 - val_loss: 0.0828 - val_accuracy: 0.9634 - val_f1: 0.7520\n",
      "Epoch 23/64\n",
      "528/528 [==============================] - ETA: 0s - loss: 0.0660 - accuracy: 0.9640 - f1: 0.8712\n",
      "Epoch 00023: f1 did not improve from 0.88864\n",
      "528/528 [==============================] - 912s 2s/step - loss: 0.0660 - accuracy: 0.9640 - f1: 0.8712 - val_loss: 0.0450 - val_accuracy: 0.9737 - val_f1: 0.8380\n",
      "Epoch 24/64\n",
      "528/528 [==============================] - ETA: 0s - loss: 0.0609 - accuracy: 0.9663 - f1: 0.8890\n",
      "Epoch 00024: f1 improved from 0.88864 to 0.88901, saving model to D:/cbers_data/DataSetModelo\\\n",
      "INFO:tensorflow:Assets written to: D:/cbers_data/DataSetModelo\\assets\n",
      "528/528 [==============================] - 976s 2s/step - loss: 0.0609 - accuracy: 0.9663 - f1: 0.8890 - val_loss: 0.0350 - val_accuracy: 0.9764 - val_f1: 0.8298\n",
      "Epoch 25/64\n",
      "528/528 [==============================] - ETA: 0s - loss: 0.0584 - accuracy: 0.9678 - f1: 0.8867\n",
      "Epoch 00025: f1 did not improve from 0.88901\n",
      "528/528 [==============================] - 964s 2s/step - loss: 0.0584 - accuracy: 0.9678 - f1: 0.8867 - val_loss: 0.0369 - val_accuracy: 0.9792 - val_f1: 0.8202\n",
      "Epoch 26/64\n",
      "528/528 [==============================] - ETA: 0s - loss: 0.0632 - accuracy: 0.9640 - f1: 0.8777\n",
      "Epoch 00026: f1 did not improve from 0.88901\n",
      "528/528 [==============================] - 961s 2s/step - loss: 0.0632 - accuracy: 0.9640 - f1: 0.8777 - val_loss: 0.0532 - val_accuracy: 0.9675 - val_f1: 0.7794\n",
      "Epoch 27/64\n",
      "528/528 [==============================] - ETA: 0s - loss: 0.0594 - accuracy: 0.9659 - f1: 0.8821\n",
      "Epoch 00027: f1 did not improve from 0.88901\n",
      "528/528 [==============================] - 965s 2s/step - loss: 0.0594 - accuracy: 0.9659 - f1: 0.8821 - val_loss: 0.0300 - val_accuracy: 0.9804 - val_f1: 0.8712\n",
      "Epoch 28/64\n",
      "528/528 [==============================] - ETA: 0s - loss: 0.0652 - accuracy: 0.9661 - f1: 0.8849\n",
      "Epoch 00028: f1 did not improve from 0.88901\n",
      "528/528 [==============================] - 961s 2s/step - loss: 0.0652 - accuracy: 0.9661 - f1: 0.8849 - val_loss: 0.0532 - val_accuracy: 0.9683 - val_f1: 0.8156\n",
      "Epoch 29/64\n",
      "528/528 [==============================] - ETA: 0s - loss: 0.0576 - accuracy: 0.9659 - f1: 0.9001\n",
      "Epoch 00029: f1 improved from 0.88901 to 0.90011, saving model to D:/cbers_data/DataSetModelo\\\n",
      "INFO:tensorflow:Assets written to: D:/cbers_data/DataSetModelo\\assets\n",
      "528/528 [==============================] - 967s 2s/step - loss: 0.0576 - accuracy: 0.9659 - f1: 0.9001 - val_loss: 0.0402 - val_accuracy: 0.9777 - val_f1: 0.8360\n",
      "Epoch 30/64\n",
      "528/528 [==============================] - ETA: 0s - loss: 0.0611 - accuracy: 0.9645 - f1: 0.8887\n",
      "Epoch 00030: f1 did not improve from 0.90011\n",
      "528/528 [==============================] - 962s 2s/step - loss: 0.0611 - accuracy: 0.9645 - f1: 0.8887 - val_loss: 0.0380 - val_accuracy: 0.9786 - val_f1: 0.8514\n",
      "Epoch 31/64\n",
      "528/528 [==============================] - ETA: 0s - loss: 0.0604 - accuracy: 0.9663 - f1: 0.8894\n",
      "Epoch 00031: f1 did not improve from 0.90011\n",
      "528/528 [==============================] - 964s 2s/step - loss: 0.0604 - accuracy: 0.9663 - f1: 0.8894 - val_loss: 0.0446 - val_accuracy: 0.9770 - val_f1: 0.8466\n",
      "Epoch 32/64\n",
      "528/528 [==============================] - ETA: 0s - loss: 0.0573 - accuracy: 0.9685 - f1: 0.8865\n",
      "Epoch 00032: f1 did not improve from 0.90011\n",
      "528/528 [==============================] - 965s 2s/step - loss: 0.0573 - accuracy: 0.9685 - f1: 0.8865 - val_loss: 0.0411 - val_accuracy: 0.9724 - val_f1: 0.8272\n",
      "Epoch 33/64\n",
      "528/528 [==============================] - ETA: 0s - loss: 0.0624 - accuracy: 0.9635 - f1: 0.8793\n",
      "Epoch 00033: f1 did not improve from 0.90011\n",
      "528/528 [==============================] - 965s 2s/step - loss: 0.0624 - accuracy: 0.9635 - f1: 0.8793 - val_loss: 0.0487 - val_accuracy: 0.9746 - val_f1: 0.8215\n",
      "Epoch 34/64\n",
      "528/528 [==============================] - ETA: 0s - loss: 0.0572 - accuracy: 0.9686 - f1: 0.8836\n",
      "Epoch 00034: f1 did not improve from 0.90011\n",
      "528/528 [==============================] - 969s 2s/step - loss: 0.0572 - accuracy: 0.9686 - f1: 0.8836 - val_loss: 0.0452 - val_accuracy: 0.9748 - val_f1: 0.7925\n",
      "Epoch 35/64\n",
      "528/528 [==============================] - ETA: 0s - loss: 0.0603 - accuracy: 0.9646 - f1: 0.8835\n",
      "Epoch 00035: f1 did not improve from 0.90011\n",
      "528/528 [==============================] - 964s 2s/step - loss: 0.0603 - accuracy: 0.9646 - f1: 0.8835 - val_loss: 0.0483 - val_accuracy: 0.9736 - val_f1: 0.8248\n",
      "Epoch 36/64\n",
      "528/528 [==============================] - ETA: 0s - loss: 0.0558 - accuracy: 0.9677 - f1: 0.8941\n",
      "Epoch 00036: f1 did not improve from 0.90011\n",
      "528/528 [==============================] - 965s 2s/step - loss: 0.0558 - accuracy: 0.9677 - f1: 0.8941 - val_loss: 0.0442 - val_accuracy: 0.9721 - val_f1: 0.7743\n",
      "Epoch 37/64\n",
      "528/528 [==============================] - ETA: 0s - loss: 0.0586 - accuracy: 0.9672 - f1: 0.8914\n",
      "Epoch 00037: f1 did not improve from 0.90011\n",
      "528/528 [==============================] - 961s 2s/step - loss: 0.0586 - accuracy: 0.9672 - f1: 0.8914 - val_loss: 0.0346 - val_accuracy: 0.9751 - val_f1: 0.8655\n",
      "Epoch 38/64\n",
      "528/528 [==============================] - ETA: 0s - loss: 0.0597 - accuracy: 0.9657 - f1: 0.8868\n",
      "Epoch 00038: f1 did not improve from 0.90011\n",
      "528/528 [==============================] - 963s 2s/step - loss: 0.0597 - accuracy: 0.9657 - f1: 0.8868 - val_loss: 0.0363 - val_accuracy: 0.9769 - val_f1: 0.8354\n",
      "Epoch 39/64\n",
      "528/528 [==============================] - ETA: 0s - loss: 0.0580 - accuracy: 0.9675 - f1: 0.8903\n",
      "Epoch 00039: f1 did not improve from 0.90011\n",
      "528/528 [==============================] - 973s 2s/step - loss: 0.0580 - accuracy: 0.9675 - f1: 0.8903 - val_loss: 0.0548 - val_accuracy: 0.9689 - val_f1: 0.7581\n",
      "Epoch 40/64\n",
      "528/528 [==============================] - ETA: 0s - loss: 0.0558 - accuracy: 0.9666 - f1: 0.8909\n",
      "Epoch 00040: f1 did not improve from 0.90011\n",
      "528/528 [==============================] - 963s 2s/step - loss: 0.0558 - accuracy: 0.9666 - f1: 0.8909 - val_loss: 0.0309 - val_accuracy: 0.9799 - val_f1: 0.8370\n",
      "Epoch 41/64\n",
      "528/528 [==============================] - ETA: 0s - loss: 0.0590 - accuracy: 0.9676 - f1: 0.8914\n",
      "Epoch 00041: f1 did not improve from 0.90011\n",
      "528/528 [==============================] - 965s 2s/step - loss: 0.0590 - accuracy: 0.9676 - f1: 0.8914 - val_loss: 0.0510 - val_accuracy: 0.9740 - val_f1: 0.7964\n",
      "Epoch 42/64\n",
      "528/528 [==============================] - ETA: 0s - loss: 0.0559 - accuracy: 0.9662 - f1: 0.8860\n",
      "Epoch 00042: f1 did not improve from 0.90011\n",
      "528/528 [==============================] - 966s 2s/step - loss: 0.0559 - accuracy: 0.9662 - f1: 0.8860 - val_loss: 0.0378 - val_accuracy: 0.9766 - val_f1: 0.8387\n",
      "Epoch 43/64\n",
      "528/528 [==============================] - ETA: 0s - loss: 0.0522 - accuracy: 0.9687 - f1: 0.9006\n",
      "Epoch 00043: f1 improved from 0.90011 to 0.90059, saving model to D:/cbers_data/DataSetModelo\\\n",
      "INFO:tensorflow:Assets written to: D:/cbers_data/DataSetModelo\\assets\n",
      "528/528 [==============================] - 974s 2s/step - loss: 0.0522 - accuracy: 0.9687 - f1: 0.9006 - val_loss: 0.0372 - val_accuracy: 0.9727 - val_f1: 0.8590\n",
      "Epoch 44/64\n",
      "528/528 [==============================] - ETA: 0s - loss: 0.0561 - accuracy: 0.9670 - f1: 0.8914\n",
      "Epoch 00044: f1 did not improve from 0.90059\n",
      "528/528 [==============================] - 965s 2s/step - loss: 0.0561 - accuracy: 0.9670 - f1: 0.8914 - val_loss: 0.0391 - val_accuracy: 0.9767 - val_f1: 0.7944\n",
      "Epoch 45/64\n",
      "528/528 [==============================] - ETA: 0s - loss: 0.0598 - accuracy: 0.9669 - f1: 0.8988\n",
      "Epoch 00045: f1 did not improve from 0.90059\n",
      "528/528 [==============================] - 949s 2s/step - loss: 0.0598 - accuracy: 0.9669 - f1: 0.8988 - val_loss: 0.0616 - val_accuracy: 0.9671 - val_f1: 0.7663\n",
      "Epoch 46/64\n",
      "528/528 [==============================] - ETA: 0s - loss: 0.0538 - accuracy: 0.9672 - f1: 0.8990\n",
      "Epoch 00046: f1 did not improve from 0.90059\n",
      "528/528 [==============================] - 949s 2s/step - loss: 0.0538 - accuracy: 0.9672 - f1: 0.8990 - val_loss: 0.0394 - val_accuracy: 0.9725 - val_f1: 0.8206\n"
     ]
    },
    {
     "name": "stdout",
     "output_type": "stream",
     "text": [
      "Epoch 47/64\n",
      "528/528 [==============================] - ETA: 0s - loss: 0.0564 - accuracy: 0.9654 - f1: 0.8968\n",
      "Epoch 00047: f1 did not improve from 0.90059\n",
      "528/528 [==============================] - 948s 2s/step - loss: 0.0564 - accuracy: 0.9654 - f1: 0.8968 - val_loss: 0.0487 - val_accuracy: 0.9708 - val_f1: 0.8191\n",
      "Epoch 48/64\n",
      "528/528 [==============================] - ETA: 0s - loss: 0.0577 - accuracy: 0.9664 - f1: 0.8843\n",
      "Epoch 00048: f1 did not improve from 0.90059\n",
      "528/528 [==============================] - 953s 2s/step - loss: 0.0577 - accuracy: 0.9664 - f1: 0.8843 - val_loss: 0.0457 - val_accuracy: 0.9754 - val_f1: 0.8334\n",
      "Epoch 49/64\n",
      "528/528 [==============================] - ETA: 0s - loss: 0.0542 - accuracy: 0.9665 - f1: 0.8926\n",
      "Epoch 00049: f1 did not improve from 0.90059\n",
      "528/528 [==============================] - 952s 2s/step - loss: 0.0542 - accuracy: 0.9665 - f1: 0.8926 - val_loss: 0.0352 - val_accuracy: 0.9748 - val_f1: 0.8079\n",
      "Epoch 00049: early stopping\n"
     ]
    }
   ],
   "source": [
    "#training the model\n",
    "model_history = model.fit(train_gen, \n",
    "                    epochs = 64, \n",
    "                    batch_size = BATCH_SIZE, \n",
    "                    validation_data = val_gen, \n",
    "                    callbacks = callbacks_list,\n",
    "                    steps_per_epoch =(NO_OF_TRAINING_IMAGES/BATCH_SIZE), \n",
    "                    validation_steps = (NO_OF_VAL_IMAGES/BATCH_SIZE)\n",
    "                  )"
   ]
  },
  {
   "cell_type": "code",
   "execution_count": 25,
   "metadata": {},
   "outputs": [],
   "source": [
    "from IPython.display import Image, display\n",
    "import PIL\n",
    "from PIL import ImageOps\n",
    "\n",
    "\n",
    "def get_test_batch(qnt_images):\n",
    "    evaluate = []\n",
    "    \n",
    "    convert_to_image = keras.preprocessing.image.array_to_img\n",
    "    dir_images = test_frame_path\n",
    "    dir_masks = test_mask_path\n",
    "    test_files = os.listdir(test_frame_path)\n",
    "    #batch_images_structure\n",
    "    mask_true_image_test = np.zeros((qnt_images,256,256,1))\n",
    "    batch_test_images = np.zeros((qnt_images,256,256,3))\n",
    "\n",
    "    for i in range(qnt_images):\n",
    "        #mask_test = np.load(dir_masks + '/'+ test_files[i], allow_pickle=True)\n",
    "        #mask_test = mask_test / 1\n",
    "        #mask_test = cv2.resize(mask_test, (512,512))\n",
    "        #mask_test = np.expand_dims(mask_test,axis=2)\n",
    "        #mask_test = normalize_min_max(mask_test)\n",
    "        mask_test = gdal.Open(dir_masks + '/'+ test_files[i]).ReadAsArray()\n",
    "        #ask_test = mask_test.transpose((1,2,0))\n",
    "        mask_test = cv2.normalize(mask_test, None, alpha=0, beta=1, norm_type=cv2.NORM_MINMAX, dtype=cv2.CV_32F)\n",
    "\n",
    "        \n",
    "        #imagem_teste = np.load(dir_images + '/'+ test_files[i],allow_pickle=True)\n",
    "        imagem_teste = gdal.Open(dir_images + '/'+ test_files[i]).ReadAsArray()\n",
    "        imagem_teste = imagem_teste.transpose((1,2,0))\n",
    "        imagem_teste = cv2.normalize(imagem_teste, None, alpha=0, beta=1, norm_type=cv2.NORM_MINMAX, dtype=cv2.CV_32F)\n",
    "\n",
    "        #imagem_teste = cv2.resize(imagem_teste, (512, 512))\n",
    "        #imagem_teste = cv2.resize(imagem_teste, (512, 512))\n",
    "        #imagem_teste = normalize_min_max(imagem_teste)\n",
    "        \n",
    "        y_eval = np.expand_dims(mask_test, axis=0)\n",
    "        x_eval = np.expand_dims(imagem_teste, axis=0)\n",
    "        \n",
    "        evaluate.append(model.evaluate(x=x_eval,y=y_eval))\n",
    "        \n",
    "        mask_true_image_test [i,:,:] = mask_test\n",
    "        batch_test_images [i,:,:] = imagem_teste\n",
    "    return batch_test_images, mask_true_image_test, evaluate"
   ]
  },
  {
   "cell_type": "code",
   "execution_count": 26,
   "metadata": {},
   "outputs": [
    {
     "name": "stdout",
     "output_type": "stream",
     "text": [
      "1/1 [==============================] - 0s 997us/step - loss: 0.0116 - accuracy: 0.9966 - f1: 0.8547\n"
     ]
    },
    {
     "ename": "ValueError",
     "evalue": "could not broadcast input array from shape (256,256) into shape (512,512,1)",
     "output_type": "error",
     "traceback": [
      "\u001b[1;31m---------------------------------------------------------------------------\u001b[0m",
      "\u001b[1;31mValueError\u001b[0m                                Traceback (most recent call last)",
      "\u001b[1;32m<ipython-input-26-a7222ee366b7>\u001b[0m in \u001b[0;36m<module>\u001b[1;34m\u001b[0m\n\u001b[0;32m      1\u001b[0m \u001b[0mqnt_images\u001b[0m \u001b[1;33m=\u001b[0m \u001b[1;36m15\u001b[0m\u001b[1;33m\u001b[0m\u001b[1;33m\u001b[0m\u001b[0m\n\u001b[1;32m----> 2\u001b[1;33m \u001b[0mbatch_test_images\u001b[0m\u001b[1;33m,\u001b[0m \u001b[0mmask_true_image_test\u001b[0m\u001b[1;33m,\u001b[0m \u001b[0mevaluate\u001b[0m \u001b[1;33m=\u001b[0m \u001b[0mget_test_batch\u001b[0m\u001b[1;33m(\u001b[0m\u001b[0mqnt_images\u001b[0m\u001b[1;33m)\u001b[0m\u001b[1;33m\u001b[0m\u001b[1;33m\u001b[0m\u001b[0m\n\u001b[0m",
      "\u001b[1;32m<ipython-input-25-604b28f61d3b>\u001b[0m in \u001b[0;36mget_test_batch\u001b[1;34m(qnt_images)\u001b[0m\n\u001b[0;32m     40\u001b[0m         \u001b[0mevaluate\u001b[0m\u001b[1;33m.\u001b[0m\u001b[0mappend\u001b[0m\u001b[1;33m(\u001b[0m\u001b[0mmodel\u001b[0m\u001b[1;33m.\u001b[0m\u001b[0mevaluate\u001b[0m\u001b[1;33m(\u001b[0m\u001b[0mx\u001b[0m\u001b[1;33m=\u001b[0m\u001b[0mx_eval\u001b[0m\u001b[1;33m,\u001b[0m\u001b[0my\u001b[0m\u001b[1;33m=\u001b[0m\u001b[0my_eval\u001b[0m\u001b[1;33m)\u001b[0m\u001b[1;33m)\u001b[0m\u001b[1;33m\u001b[0m\u001b[1;33m\u001b[0m\u001b[0m\n\u001b[0;32m     41\u001b[0m \u001b[1;33m\u001b[0m\u001b[0m\n\u001b[1;32m---> 42\u001b[1;33m         \u001b[0mmask_true_image_test\u001b[0m \u001b[1;33m[\u001b[0m\u001b[0mi\u001b[0m\u001b[1;33m,\u001b[0m\u001b[1;33m:\u001b[0m\u001b[1;33m,\u001b[0m\u001b[1;33m:\u001b[0m\u001b[1;33m]\u001b[0m \u001b[1;33m=\u001b[0m \u001b[0mmask_test\u001b[0m\u001b[1;33m\u001b[0m\u001b[1;33m\u001b[0m\u001b[0m\n\u001b[0m\u001b[0;32m     43\u001b[0m         \u001b[0mbatch_test_images\u001b[0m \u001b[1;33m[\u001b[0m\u001b[0mi\u001b[0m\u001b[1;33m,\u001b[0m\u001b[1;33m:\u001b[0m\u001b[1;33m,\u001b[0m\u001b[1;33m:\u001b[0m\u001b[1;33m]\u001b[0m \u001b[1;33m=\u001b[0m \u001b[0mimagem_teste\u001b[0m\u001b[1;33m\u001b[0m\u001b[1;33m\u001b[0m\u001b[0m\n\u001b[0;32m     44\u001b[0m     \u001b[1;32mreturn\u001b[0m \u001b[0mbatch_test_images\u001b[0m\u001b[1;33m,\u001b[0m \u001b[0mmask_true_image_test\u001b[0m\u001b[1;33m,\u001b[0m \u001b[0mevaluate\u001b[0m\u001b[1;33m\u001b[0m\u001b[1;33m\u001b[0m\u001b[0m\n",
      "\u001b[1;31mValueError\u001b[0m: could not broadcast input array from shape (256,256) into shape (512,512,1)"
     ]
    }
   ],
   "source": [
    "qnt_images = 15\n",
    "batch_test_images, mask_true_image_test, evaluate = get_test_batch(qnt_images)"
   ]
  },
  {
   "cell_type": "code",
   "execution_count": null,
   "metadata": {
    "scrolled": false
   },
   "outputs": [],
   "source": [
    "df_eval = pd.DataFrame(evaluate)\n",
    "df_eval.columns = [\"Loss\", \"Accuracy\", \"f1\"]\n",
    "df_eval"
   ]
  },
  {
   "cell_type": "code",
   "execution_count": null,
   "metadata": {},
   "outputs": [],
   "source": [
    "print( 'Loss: ' + str(df_eval['Loss'].mean()))\n",
    "print( 'F1: ' + str(df_eval['f1'].mean()))\n",
    "print( 'Accuracy: ' + str(df_eval['Accuracy'].mean()))"
   ]
  },
  {
   "cell_type": "code",
   "execution_count": null,
   "metadata": {},
   "outputs": [],
   "source": [
    "mask_predict = model.predict(batch_test_images)"
   ]
  },
  {
   "cell_type": "code",
   "execution_count": null,
   "metadata": {},
   "outputs": [],
   "source": [
    "def show_images(display_list):\n",
    "    plt.figure(figsize=(15, 15))\n",
    "\n",
    "    title = ['Input Image', 'True Mask', 'Predicted Mask']\n",
    "\n",
    "    \n",
    "    for i in range(len(display_list)):\n",
    "        plt.subplot(1, len(display_list), i+1)\n",
    "        plt.title(title[i])\n",
    "        plt.imshow(tf.keras.preprocessing.image.array_to_img(display_list[i]))\n",
    "        plt.axis('off')\n",
    "        \n",
    "    plt.show()"
   ]
  },
  {
   "cell_type": "code",
   "execution_count": null,
   "metadata": {
    "scrolled": true
   },
   "outputs": [],
   "source": [
    "for i in range(qnt_images):\n",
    "    b, g, r    = batch_test_images[i][:, :, 1], batch_test_images[i][:, :, 2], batch_test_images[i][:, :, 3]\n",
    "    rgb = np.dstack((r,g,b))\n",
    "    show_images([rgb, mask_true_image_test[i], mask_predict[i]])"
   ]
  },
  {
   "cell_type": "markdown",
   "metadata": {},
   "source": [
    "# Aprendizado"
   ]
  },
  {
   "cell_type": "code",
   "execution_count": null,
   "metadata": {
    "scrolled": true
   },
   "outputs": [],
   "source": [
    "acc = model_history.history['accuracy']\n",
    "val_acc = model_history.history['val_accuracy']\n",
    "\n",
    "loss = model_history.history['loss']\n",
    "val_loss = model_history.history['val_loss']\n",
    "\n",
    "\n",
    "plt.figure(figsize=(8, 8))\n",
    "plt.subplot(2, 1, 1)\n",
    "plt.plot(acc, label='Training Accuracy')\n",
    "plt.plot(val_acc, label='Validation Accuracy')\n",
    "plt.legend(loc='lower right')\n",
    "plt.ylabel('Accuracy')\n",
    "plt.ylim([min(plt.ylim()),1])\n",
    "plt.title('Training and Validation Accuracy')\n",
    "\n",
    "plt.show()"
   ]
  },
  {
   "cell_type": "code",
   "execution_count": null,
   "metadata": {},
   "outputs": [],
   "source": [
    "loss = model_history.history['loss']\n",
    "val_loss = model_history.history['val_loss']\n",
    "\n",
    "\n",
    "plt.figure(figsize=(8, 8))\n",
    "plt.subplot(2, 1, 1)\n",
    "plt.plot(loss, label='Training Loss')\n",
    "plt.plot(val_loss, label='Validation Loss')\n",
    "plt.legend(loc='lower right')\n",
    "plt.ylabel('Loss')\n",
    "plt.ylim([min(plt.ylim()),1])\n",
    "plt.title('Training and Validation Loss')\n",
    "\n",
    "plt.show()"
   ]
  },
  {
   "cell_type": "code",
   "execution_count": null,
   "metadata": {},
   "outputs": [],
   "source": [
    "f1 = model_history.history['f1']\n",
    "val_f1 = model_history.history['val_f1']\n",
    "\n",
    "\n",
    "plt.figure(figsize=(8, 8))\n",
    "plt.subplot(2, 1, 1)\n",
    "plt.plot(f1, label='Training F1-Score')\n",
    "plt.plot(val_f1, label='Validation F1-Score')\n",
    "plt.legend(loc='lower right')\n",
    "plt.ylabel('F1-Score')\n",
    "plt.ylim([min(plt.ylim()),1])\n",
    "plt.title('Training and Validation F1-Score')\n",
    "\n",
    "plt.show()"
   ]
  }
 ],
 "metadata": {
  "celltoolbar": "Raw Cell Format",
  "kernelspec": {
   "display_name": "Python 3",
   "language": "python",
   "name": "python3"
  },
  "language_info": {
   "codemirror_mode": {
    "name": "ipython",
    "version": 3
   },
   "file_extension": ".py",
   "mimetype": "text/x-python",
   "name": "python",
   "nbconvert_exporter": "python",
   "pygments_lexer": "ipython3",
   "version": "3.8.11"
  }
 },
 "nbformat": 4,
 "nbformat_minor": 4
}
